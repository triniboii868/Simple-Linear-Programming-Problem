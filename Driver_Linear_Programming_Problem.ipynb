{
  "nbformat": 4,
  "nbformat_minor": 0,
  "metadata": {
    "colab": {
      "provenance": []
    },
    "kernelspec": {
      "name": "python3",
      "display_name": "Python 3"
    },
    "language_info": {
      "name": "python"
    }
  },
  "cells": [
    {
      "cell_type": "code",
      "source": [
        "# Importation of Libraries\n",
        "import numpy as np\n",
        "from scipy.optimize import linprog"
      ],
      "metadata": {
        "id": "fu2uKD_sZ0Mq"
      },
      "execution_count": 37,
      "outputs": []
    },
    {
      "cell_type": "code",
      "source": [
        "# Costs per hour\n",
        "driver_rate = 21.75  # Regular rate for Delivery Driver\n",
        "associate_rate = 19.50  # Regular rate for Delivery Associate\n",
        "driver_holiday_rate = 2 * driver_rate  # Double time on holidays\n",
        "associate_holiday_rate = 1.5 * associate_rate  # Time and a half on holidays"
      ],
      "metadata": {
        "id": "Es6x4xFFZ2xZ"
      },
      "execution_count": 38,
      "outputs": []
    },
    {
      "cell_type": "code",
      "source": [
        "# Constraints: Ax ≤ b\n",
        "A = [\n",
        "    [1, 0, 0, 0],  # Driver regular hours ≤ 40\n",
        "    [0, 1, 0, 0],  # Associate regular hours ≤ 45\n",
        "    [0, 0, 1, 0],  # Driver holiday hours ≤ 20\n",
        "    [0, 0, 0, 1],  # Associate holiday hours ≤ 25\n",
        "]\n",
        "\n",
        "b = [40, 45, 20, 25]  # Upper bounds for each constraint"
      ],
      "metadata": {
        "id": "i5nQJylQZ7qJ"
      },
      "execution_count": 39,
      "outputs": []
    },
    {
      "cell_type": "code",
      "source": [
        "# Bounds for variables (Regular & Holiday hours)\n",
        "x_bounds = (0, 40)   # Delivery Driver regular hours\n",
        "y_bounds = (0, 45)   # Delivery Associate regular hours\n",
        "z_bounds = (0, 20)   # Holiday hours for Delivery Driver (max 20)\n",
        "w_bounds = (0, 25)   # Holiday hours for Delivery Associate (max 25)\n",
        "\n",
        "bounds = [x_bounds, y_bounds, z_bounds, w_bounds]"
      ],
      "metadata": {
        "id": "YNv-N3GFZ9zC"
      },
      "execution_count": 40,
      "outputs": []
    },
    {
      "cell_type": "code",
      "source": [
        "# Solve the linear program (minimizing cost)\n",
        "result = linprog(c, A_ub=A, b_ub=b, bounds=bounds, method=\"highs\")"
      ],
      "metadata": {
        "id": "_XvBOnrTZ_2S"
      },
      "execution_count": 41,
      "outputs": []
    },
    {
      "cell_type": "code",
      "source": [
        "# Number of weeks to analyze (e.g., 4 weeks = 1 month)\n",
        "num_weeks = 4\n",
        "\n",
        "if result.success:\n",
        "    x_opt, y_opt, z_opt, w_opt = result.x\n",
        "\n",
        "    # Calculate total costs\n",
        "    driver_total_cost = (x_opt * driver_rate + z_opt * driver_holiday_rate) * num_weeks\n",
        "    associate_total_cost = (y_opt * associate_rate + w_opt * associate_holiday_rate) * num_weeks\n",
        "\n",
        "    print(f\"Optimal Regular Hours for Delivery Driver: {x_opt:.2f}\")\n",
        "    print(f\"Optimal Holiday Hours for Delivery Driver: {z_opt:.2f}\")\n",
        "    print(f\"Optimal Regular Hours for Delivery Associate: {y_opt:.2f}\")\n",
        "    print(f\"Optimal Holiday Hours for Delivery Associate: {w_opt:.2f}\")\n",
        "\n",
        "    print(f\"\\nTotal cost for hiring Delivery Driver over {num_weeks} weeks: ${driver_total_cost:.2f}\")\n",
        "    print(f\"Total cost for hiring Delivery Associate over {num_weeks} weeks: ${associate_total_cost:.2f}\")\n",
        "\n",
        "\n",
        "    # Compare which is cheaper\n",
        "    if driver_total_cost < associate_total_cost:\n",
        "        print(f\"\\n✅ Hiring a Delivery Driver is cheaper by ${associate_total_cost - driver_total_cost:.2f} for the peak period.\")\n",
        "    elif associate_total_cost < driver_total_cost:\n",
        "        print(f\"\\n✅ Hiring a Delivery Associate is cheaper by ${driver_total_cost - associate_total_cost:.2f} for the peak period.\")\n",
        "    else:\n",
        "        print(\"\\nBoth options cost the same.\")\n",
        "else:\n",
        "    print(\"Optimization failed:\", result.message)"
      ],
      "metadata": {
        "colab": {
          "base_uri": "https://localhost:8080/"
        },
        "id": "dBZUJ12OaFHC",
        "outputId": "19ff7c75-0bd4-496a-e912-b30448223619"
      },
      "execution_count": 50,
      "outputs": [
        {
          "output_type": "stream",
          "name": "stdout",
          "text": [
            "Optimal Regular Hours for Delivery Driver: 40.00\n",
            "Optimal Holiday Hours for Delivery Driver: 20.00\n",
            "Optimal Regular Hours for Delivery Associate: 45.00\n",
            "Optimal Holiday Hours for Delivery Associate: 25.00\n",
            "\n",
            "Total cost for hiring Delivery Driver over 4 weeks: $6960.00\n",
            "Total cost for hiring Delivery Associate over 4 weeks: $6435.00\n",
            "\n",
            "✅ Hiring a Delivery Associate is cheaper by $525.00 for the peak period.\n"
          ]
        }
      ]
    },
    {
      "cell_type": "code",
      "source": [],
      "metadata": {
        "id": "uKvdalFeaVQp"
      },
      "execution_count": null,
      "outputs": []
    }
  ]
}